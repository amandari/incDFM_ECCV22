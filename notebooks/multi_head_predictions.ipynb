{
 "cells": [
  {
   "cell_type": "code",
   "execution_count": 24,
   "metadata": {},
   "outputs": [
    {
     "name": "stdout",
     "output_type": "stream",
     "text": [
      "load contrastive backbone\n"
     ]
    }
   ],
   "source": [
    "import torch\n",
    "import numpy as np\n",
    "import torch.nn as nn\n",
    "import sys\n",
    "\n",
    "sys.path.append('../src/')\n",
    "\n",
    "import tforms\n",
    "import utils\n",
    "sys.path.append('../src/novelty_dfm_CL/')\n",
    "\n",
    "\n",
    "\n",
    "import dset8_specific_scripts.classifier_8dset as clf\n",
    "\n",
    "network = clf.Resnet_PSP([104, 72, 38], 3, resnet_arch='resnet50_contrastive', FC_layers=[7096,4098], base_freeze=True)\n",
    "\n",
    "network = network.cuda()\n",
    "   \n",
    "def predict_task_baseline_peakedness(num_tasks, image, network, peakedness_m='max'):\n",
    "    '''Predict a task assignment using peakedness measure'''\n",
    "        \n",
    "    image = image.cuda()\n",
    "       \n",
    "    softmax = nn.Softmax(dim=-1) ## find out the right dimension\n",
    "                \n",
    "    with torch.no_grad():\n",
    "        values=[]\n",
    "        for tt in range(num_tasks):\n",
    "            task_embedding = network(image, tt, base_apply=False) ## generate task_num different embeddings \n",
    "\n",
    "            Y_hat = softmax(task_embedding)\n",
    "            \n",
    "            print('Y_hat', Y_hat.shape)\n",
    "            if peakedness_m=='entropy':\n",
    "                entropy = -1*torch.sum(Y_hat * torch.log(Y_hat))\n",
    "                values.append(entropy)\n",
    "            elif peakedness_m=='max':\n",
    "                values.append(Y_hat.max())\n",
    "\n",
    "        print('values', torch.stack(values))\n",
    "        \n",
    "        if peakedness_m=='entropy':\n",
    "            task_predicted = torch.argmin(torch.stack(values))\n",
    "        elif peakedness_m=='max':\n",
    "            task_predicted = torch.argmax(torch.stack(values))\n",
    "        \n",
    "    return int(task_predicted.item())\n",
    "    \n",
    "    \n",
    "    \n",
    "    \n",
    "    \n",
    "    \n",
    "    \n",
    "    \n",
    "class BinaryHashLinear(nn.Module):\n",
    "    def __init__(self, n_in, n_out, period, key_pick='hash', learn_key=True):\n",
    "        super(BinaryHashLinear, self).__init__()\n",
    "        self.key_pick = key_pick\n",
    "        w = nn.init.xavier_normal_(torch.empty(n_in, n_out))\n",
    "        rand_01 = np.random.binomial(p=.5, n=1, size=(n_in, period)).astype(np.float32)\n",
    "        o = torch.from_numpy(rand_01*2 - 1)\n",
    "\n",
    "        self.w = nn.Parameter(w)\n",
    "        self.bias = nn.Parameter(torch.zeros(n_out))\n",
    "        self.o = nn.Parameter(o)\n",
    "        if not learn_key:\n",
    "            self.o.requires_grad = False\n",
    "\n",
    "    def forward(self, x, task):\n",
    "        o = self.o[:, task]\n",
    "        m = x*o\n",
    "        r = torch.mm(m, self.w)\n",
    "        return r\n",
    "    \n",
    "    \n",
    "class BinaryHashLinear(nn.Module):\n",
    "    def __init__(self, n_in, n_out, period, key_pick='hash', learn_key=True):\n",
    "        super(BinaryHashLinear, self).__init__()\n",
    "        self.key_pick = key_pick\n",
    "        self.n_in = n_in\n",
    "        self.n_out = n_out\n",
    "        w = nn.init.xavier_normal_(torch.empty(n_in, n_out))\n",
    "        self.w = nn.Parameter(w)\n",
    "        self.bias = nn.Parameter(torch.zeros(n_out))\n",
    "        \n",
    "        rand_01 = np.random.binomial(p=.5, n=1, size=(n_in, period)).astype(np.float32)\n",
    "        o = torch.from_numpy(rand_01*2 - 1)\n",
    "        self.o = nn.Parameter(o)\n",
    "        if not learn_key:\n",
    "            self.o.requires_grad = False\n",
    "\n",
    "    def forward(self, x, key_id_list):\n",
    "        '''\n",
    "        corrected to include array of key_ids \n",
    "        (May be different for each x sample - row)\n",
    "        key_id_list (list): must have len == x.shape[0]\n",
    "        '''\n",
    "        assert len(key_id_list) == x.shape[0]\n",
    "        o = self.o[:, key_id_list].T\n",
    "        # print(o.shape, x.shape)\n",
    "        m = x*o\n",
    "        r = torch.mm(m, self.w)\n",
    "        return r\n",
    "\n",
    "    "
   ]
  },
  {
   "cell_type": "code",
   "execution_count": 25,
   "metadata": {},
   "outputs": [
    {
     "name": "stdout",
     "output_type": "stream",
     "text": [
      "Y_hat torch.Size([10, 104])\n",
      "Y_hat torch.Size([10, 72])\n",
      "Y_hat torch.Size([10, 38])\n",
      "values tensor([0.0141, 0.0198, 0.0419], device='cuda:0')\n"
     ]
    },
    {
     "data": {
      "text/plain": [
       "2"
      ]
     },
     "execution_count": 25,
     "metadata": {},
     "output_type": "execute_result"
    }
   ],
   "source": [
    "images = torch.rand(size=(10,2048))\n",
    "\n",
    "predict_task_baseline_peakedness(3, images, network, peakedness_m='max')"
   ]
  },
  {
   "cell_type": "code",
   "execution_count": null,
   "metadata": {},
   "outputs": [],
   "source": [
    "images = torch.rand(size=(10,2048))\n",
    "images = images.cuda()\n",
    "task_embedding = network(images, 2, base_apply=False)\n"
   ]
  },
  {
   "cell_type": "code",
   "execution_count": 12,
   "metadata": {},
   "outputs": [
    {
     "name": "stdout",
     "output_type": "stream",
     "text": [
      "0\n",
      "1\n"
     ]
    }
   ],
   "source": [
    "for tt in range(2):\n",
    "    print(tt)"
   ]
  },
  {
   "cell_type": "code",
   "execution_count": null,
   "metadata": {},
   "outputs": [],
   "source": []
  }
 ],
 "metadata": {
  "interpreter": {
   "hash": "6656ba487fb895a60e5d4c5030343c34c763d6fe30d1a6683b717bdb1af8ff9b"
  },
  "kernelspec": {
   "display_name": "Python 3.9.7 64-bit ('incDFM_proj': conda)",
   "language": "python",
   "name": "python3"
  },
  "language_info": {
   "codemirror_mode": {
    "name": "ipython",
    "version": 3
   },
   "file_extension": ".py",
   "mimetype": "text/x-python",
   "name": "python",
   "nbconvert_exporter": "python",
   "pygments_lexer": "ipython3",
   "version": "3.9.7"
  },
  "orig_nbformat": 4
 },
 "nbformat": 4,
 "nbformat_minor": 2
}
