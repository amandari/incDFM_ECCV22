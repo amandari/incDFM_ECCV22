{
 "cells": [
  {
   "cell_type": "code",
   "execution_count": 2,
   "source": [
    "import matplotlib.pyplot as plt\n",
    "import numpy as np\n",
    "import os\n",
    "import sys\n",
    "from matplotlib import colors as mcolors\n",
    "import random\n",
    "import pickle\n",
    "\n",
    "from sklearn.metrics import fbeta_score\n",
    "from argparse import Namespace\n",
    "\n",
    "from scipy.stats import entropy\n",
    "%matplotlib inline\n",
    "sys.path.append('../src/')\n",
    "\n",
    "from novelty_dfm_CL.novelty_utils import confidence_scores, Threshold_n_Select_Simple\n",
    "from novelty_dfm_CL.novelty_plot_utils import confidence_multi_task_subplots, multi_task_subplots, evaluate_subset_n_complement, ThresholdingResults"
   ],
   "outputs": [],
   "metadata": {}
  },
  {
   "cell_type": "markdown",
   "source": [
    "# Comparison Plots (across experiments)"
   ],
   "metadata": {}
  },
  {
   "cell_type": "code",
   "execution_count": 3,
   "source": [
    "percentiles = np.arange(20,100,5)\n",
    "num_tasks = 8\n",
    "metric = 'accuracy_novelty'\n",
    "\n",
    "dir_res = '../src/novelty_dfm_CL/Results_DFM_CL/cifar10/'\n",
    "\n",
    "# dir_results_all = ['031121_210222','041121_203143',  '041121_211534',  '041121_211021']\n",
    "# code_names = ['holdout_0.2_mix_1.0_preds', 'holdout_0.2_mix_1.0_gt', 'test_preds', 'test_gt']\\\n",
    "\n",
    "dir_results_all = ['031121_210222','041121_203143']\n",
    "code_names = ['holdout_0.2_mix_1.0_preds', 'holdout_0.2_mix_1.0_gt']\\\n",
    "\n",
    "\n",
    "colors_set = ['c', 'm', 'g', 'r', 'b', 'y']\n"
   ],
   "outputs": [],
   "metadata": {}
  },
  {
   "cell_type": "code",
   "execution_count": 4,
   "source": [
    "res_comb = []\n",
    "\n",
    "for res in dir_results_all:\n",
    "\n",
    "    with open('%s/%s/results_tasks.pickle'%(dir_res, res), 'rb') as handle:\n",
    "        per_task_results_comp = pickle.load(handle)\n",
    "\n",
    "    if isinstance(per_task_results_comp, dict):\n",
    "        per_task_results_comp = Namespace(**per_task_results_comp)\n",
    "\n",
    "    Results_comp = ThresholdingResults(percentiles, num_tasks)\n",
    "    Results_comp.log_results(per_task_results_comp)\n",
    "    \n",
    "    res_comb.append(getattr(Results_comp, metric))\n",
    "\n",
    "\n",
    "\n",
    "data_perform_compare = np.stack(res_comb, axis=0)\n",
    "\n",
    "dir_save_compare = '../src/novelty_dfm_CL/Results_DFM_CL/comparisons/'\n",
    "savepath_compare = dir_save_compare + '/experiment_comparison_onlypred_%s.jpg'%metric\n",
    "\n",
    "multi_task_subplots(data_perform_compare, savepath=savepath_compare, title_plot='Compare %s Accross Experiments'%metric, y_ticks=np.arange(0.5,1.05, 0.05), xlabels=np.tile(percentiles,(num_tasks,1)).T, \n",
    "                    fig_size_=(15,25),  codes=code_names, colors_set=colors_set, stepsize=1, task_delim=False, turnoffX=False)"
   ],
   "outputs": [
    {
     "output_type": "stream",
     "name": "stdout",
     "text": [
      "only has attribute scores_dist\n",
      "only has attribute scores_dist\n",
      "only has attribute scores_dist\n",
      "only has attribute scores_dist\n",
      "only has attribute scores_dist\n",
      "only has attribute scores_dist\n",
      "only has attribute scores_dist\n",
      "only has attribute scores_dist\n"
     ]
    },
    {
     "output_type": "error",
     "ename": "AttributeError",
     "evalue": "'ThresholdingResults' object has no attribute 'accuracy'",
     "traceback": [
      "\u001b[0;31m---------------------------------------------------------------------------\u001b[0m",
      "\u001b[0;31mAttributeError\u001b[0m                            Traceback (most recent call last)",
      "\u001b[0;32m<ipython-input-4-d64c88a69890>\u001b[0m in \u001b[0;36m<module>\u001b[0;34m\u001b[0m\n\u001b[1;32m     12\u001b[0m     \u001b[0mResults_comp\u001b[0m\u001b[0;34m.\u001b[0m\u001b[0mlog_results\u001b[0m\u001b[0;34m(\u001b[0m\u001b[0mper_task_results_comp\u001b[0m\u001b[0;34m)\u001b[0m\u001b[0;34m\u001b[0m\u001b[0;34m\u001b[0m\u001b[0m\n\u001b[1;32m     13\u001b[0m \u001b[0;34m\u001b[0m\u001b[0m\n\u001b[0;32m---> 14\u001b[0;31m     \u001b[0mres_comb\u001b[0m\u001b[0;34m.\u001b[0m\u001b[0mappend\u001b[0m\u001b[0;34m(\u001b[0m\u001b[0mgetattr\u001b[0m\u001b[0;34m(\u001b[0m\u001b[0mResults_comp\u001b[0m\u001b[0;34m,\u001b[0m \u001b[0mmetric\u001b[0m\u001b[0;34m)\u001b[0m\u001b[0;34m)\u001b[0m\u001b[0;34m\u001b[0m\u001b[0;34m\u001b[0m\u001b[0m\n\u001b[0m\u001b[1;32m     15\u001b[0m \u001b[0;34m\u001b[0m\u001b[0m\n\u001b[1;32m     16\u001b[0m \u001b[0;34m\u001b[0m\u001b[0m\n",
      "\u001b[0;31mAttributeError\u001b[0m: 'ThresholdingResults' object has no attribute 'accuracy'"
     ]
    }
   ],
   "metadata": {}
  },
  {
   "cell_type": "code",
   "execution_count": 8,
   "source": [
    "vars(Results_comp).keys()"
   ],
   "outputs": [
    {
     "output_type": "execute_result",
     "data": {
      "text/plain": [
       "dict_keys(['percentiles', 'num_tasks', 'thresholds', 'accuracy_novelty', 'precision_novelty', 'recall_novelty', 'fbeta_novelty', 'confidences_Novel', 'confidences_Old', 'clip_err', 'scores', 'gt_novelty', 'inds_old', 'inds_new', 'conf'])"
      ]
     },
     "metadata": {},
     "execution_count": 8
    }
   ],
   "metadata": {}
  },
  {
   "cell_type": "code",
   "execution_count": null,
   "source": [],
   "outputs": [],
   "metadata": {}
  }
 ],
 "metadata": {
  "orig_nbformat": 4,
  "language_info": {
   "name": "python",
   "version": "3.7.10",
   "mimetype": "text/x-python",
   "codemirror_mode": {
    "name": "ipython",
    "version": 3
   },
   "pygments_lexer": "ipython3",
   "nbconvert_exporter": "python",
   "file_extension": ".py"
  },
  "kernelspec": {
   "name": "python3",
   "display_name": "Python 3.7.10 64-bit ('remind_proj': conda)"
  },
  "interpreter": {
   "hash": "05b150e87e16a7f15e68a52cad20b8449e4511c9ed1c6048915793505d6c322d"
  }
 },
 "nbformat": 4,
 "nbformat_minor": 2
}