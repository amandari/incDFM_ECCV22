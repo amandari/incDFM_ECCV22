{
 "cells": [
  {
   "cell_type": "code",
   "execution_count": 1,
   "metadata": {},
   "outputs": [],
   "source": [
    "import sys\n",
    "import numpy as np\n",
    "import copy\n",
    "import os\n",
    "import torch\n",
    "import torchvision.transforms as TF\n",
    "import copy\n",
    "sys.path.append('../src/')\n",
    "\n",
    "import tforms \n",
    "import utils\n",
    "\n",
    "import inaturalist_dataset as dset\n",
    "\n",
    "import novelty_dfm_CL.novelty_dataset_wrappers as novdset"
   ]
  },
  {
   "cell_type": "markdown",
   "metadata": {},
   "source": [
    "# Get Inaturalist Dataset"
   ]
  },
  {
   "cell_type": "code",
   "execution_count": 2,
   "metadata": {},
   "outputs": [],
   "source": [
    "\n",
    "transform = TF.Compose([TF.Resize(256), TF.CenterCrop(224), TF.RandomHorizontalFlip(), TF.ToTensor()])\n",
    "dataroot = '../data/inaturalist/'\n",
    "\n",
    "dataset = dset.WrapNaturalist(dataroot, version='2019', target_type=['super'], \\\n",
    "                                transform=transform, target_transform=None, download=False)\n",
    "\n",
    "task_indices_new = np.random.randint(0, dataset.__len__(), size=(5000,))\n",
    "task_indices_old1 = np.random.randint(0, dataset.__len__(), size=(5000,))\n",
    "task_indices_old2 = np.random.randint(0, dataset.__len__(), size=(5000,))\n",
    "\n",
    "np.save('../sandbox/filetask_new.npy', task_indices_new)\n",
    "np.save('../sandbox/filetask_old1.npy', task_indices_old1)\n",
    "np.save('../sandbox/filetask_old2.npy', task_indices_old2)\n",
    "\n",
    "dataset_task_new = dset.inaturalistTask(dataroot, tasklist='../sandbox/filetask_new.npy', transform=transform)\n",
    "\n",
    "dataset_task_old1 = dset.inaturalistTask(dataroot, tasklist='../sandbox/filetask_old1.npy', transform=transform)\n",
    "dataset_task_old2 = dset.inaturalistTask(dataroot, tasklist='../sandbox/filetask_old2.npy', transform=transform)\n",
    "\n",
    "datasets_old = [dataset_task_old1, dataset_task_old2]\n"
   ]
  },
  {
   "cell_type": "code",
   "execution_count": 8,
   "metadata": {},
   "outputs": [
    {
     "name": "stdout",
     "output_type": "stream",
     "text": [
      "dset_id 0\n"
     ]
    },
    {
     "data": {
      "text/plain": [
       "(1000,\n",
       " (tensor([[[0.3647, 0.3686, 0.3804,  ..., 0.4824, 0.4549, 0.4000],\n",
       "           [0.3529, 0.3608, 0.3765,  ..., 0.4902, 0.4078, 0.3569],\n",
       "           [0.3451, 0.3490, 0.3686,  ..., 0.4039, 0.3451, 0.3294],\n",
       "           ...,\n",
       "           [0.1176, 0.1098, 0.1098,  ..., 0.1608, 0.1529, 0.1490],\n",
       "           [0.1098, 0.1098, 0.1216,  ..., 0.1843, 0.1647, 0.1490],\n",
       "           [0.1098, 0.1137, 0.1137,  ..., 0.2667, 0.1882, 0.1569]],\n",
       "  \n",
       "          [[0.4824, 0.4824, 0.4824,  ..., 0.5647, 0.5098, 0.4510],\n",
       "           [0.4784, 0.4745, 0.4784,  ..., 0.5451, 0.4549, 0.4078],\n",
       "           [0.4745, 0.4706, 0.4706,  ..., 0.4588, 0.4000, 0.3961],\n",
       "           ...,\n",
       "           [0.2078, 0.2000, 0.1961,  ..., 0.2706, 0.2667, 0.2588],\n",
       "           [0.2039, 0.2039, 0.2078,  ..., 0.2745, 0.2745, 0.2706],\n",
       "           [0.2118, 0.2157, 0.2118,  ..., 0.3137, 0.2824, 0.2784]],\n",
       "  \n",
       "          [[0.3804, 0.3804, 0.3804,  ..., 0.3451, 0.2863, 0.2275],\n",
       "           [0.3725, 0.3725, 0.3765,  ..., 0.2627, 0.2039, 0.1608],\n",
       "           [0.3686, 0.3647, 0.3686,  ..., 0.1922, 0.1529, 0.1490],\n",
       "           ...,\n",
       "           [0.1608, 0.1412, 0.1451,  ..., 0.2510, 0.2588, 0.2471],\n",
       "           [0.1490, 0.1569, 0.1765,  ..., 0.2667, 0.2667, 0.2549],\n",
       "           [0.1725, 0.1765, 0.1843,  ..., 0.3098, 0.2706, 0.2627]]]),\n",
       "  2,\n",
       "  4,\n",
       "  1.0))"
      ]
     },
     "execution_count": 8,
     "metadata": {},
     "output_type": "execute_result"
    }
   ],
   "source": [
    "\n",
    "class NovelTask():\n",
    "    def __init__(self, task, num_current_classes, current_dset, \\\n",
    "        pred_novel_inds=None, returnGT=False):\n",
    "        \"\"\" \n",
    "        When Each novel task only contains one class/label (except for first task)\n",
    "        Filter and keep only predicted_novel_inds\n",
    "        Return Ground Truths Optionally\n",
    "        \"\"\"\n",
    "\n",
    "        self.dset = current_dset\n",
    "        self.returnGT = returnGT\n",
    "        self.task = task\n",
    "        self.num_current_classes = num_current_classes\n",
    "        \n",
    "        if pred_novel_inds is not None:\n",
    "            self.dset.select_specific_subset(pred_novel_inds)\n",
    "        self.indices_task = self.dset.indices_task\n",
    "\n",
    "\n",
    "    def __len__(self):\n",
    "        return len(self.indices_task)\n",
    "\n",
    "        \n",
    "    def __getitem__(self, idx):\n",
    "        \n",
    "        im, class_gt, novelty_gt = self.dset.__getitem__(idx)\n",
    "\n",
    "        if self.task>0:\n",
    "            class_lbl = self.num_current_classes\n",
    "        else:\n",
    "            class_lbl = class_gt\n",
    "\n",
    "        if self.returnGT:\n",
    "            return im, class_lbl, class_gt, novelty_gt\n",
    "            \n",
    "        return im, class_lbl\n",
    "\n",
    "\n",
    "\n",
    "\n",
    "current_dset = novdset.CurrentTask(dataset_task_new, datasets_old, returnIDX=False)\n",
    "\n",
    "current_dset.__len__(), current_dset.indices_task[0]\n",
    "\n",
    "\n",
    "indices_select = np.random.randint(0,15000, size=(1000,))\n",
    "\n",
    "\n",
    "p_dset = NovelTask(1, 2, current_dset, pred_novel_inds=indices_select, returnGT=True)\n",
    "\n",
    "p_dset.__len__(), p_dset.__getitem__(10)\n"
   ]
  },
  {
   "cell_type": "code",
   "execution_count": 11,
   "metadata": {},
   "outputs": [],
   "source": [
    "\n",
    "class NovelTask():\n",
    "    def __init__(self, task, num_current_classes, current_dset, \\\n",
    "        pred_novel_inds=None, returnGT=False):\n",
    "        \"\"\" \n",
    "        When Each novel task only contains one class/label (except for first task)\n",
    "        Filter and keep only predicted_novel_inds\n",
    "        Return Ground Truths Optionally\n",
    "        \"\"\"\n",
    "\n",
    "        self.dset = current_dset\n",
    "        self.returnGT = returnGT\n",
    "        self.task = task\n",
    "        self.num_current_classes = num_current_classes\n",
    "        \n",
    "        if pred_novel_inds is not None:\n",
    "            self.dset.select_specific_subset(pred_novel_inds)\n",
    "        self.indices_task = self.dset.indices_task\n",
    "\n",
    "\n",
    "    def __len__(self):\n",
    "        return len(self.indices_task)\n",
    "\n",
    "        \n",
    "    def __getitem__(self, idx):\n",
    "        \n",
    "        im, class_gt, novelty_gt = self.dset.__getitem__(idx)\n",
    "\n",
    "        if self.task>0:\n",
    "            class_lbl = self.num_current_classes\n",
    "        else:\n",
    "            class_lbl = class_gt\n",
    "\n",
    "        if self.returnGT:\n",
    "            novelty_gt = self.gt_novelty_y[idx]\n",
    "            class_gt = self.gt_y[idx]\n",
    "            return im, class_lbl, class_gt, novelty_gt\n",
    "            \n",
    "        return im, class_lbl\n",
    "\n",
    "\n",
    "\n"
   ]
  },
  {
   "cell_type": "code",
   "execution_count": null,
   "metadata": {},
   "outputs": [],
   "source": []
  }
 ],
 "metadata": {
  "interpreter": {
   "hash": "6656ba487fb895a60e5d4c5030343c34c763d6fe30d1a6683b717bdb1af8ff9b"
  },
  "kernelspec": {
   "display_name": "Python 3.9.7 64-bit ('incDFM_proj': conda)",
   "language": "python",
   "name": "python3"
  },
  "language_info": {
   "codemirror_mode": {
    "name": "ipython",
    "version": 3
   },
   "file_extension": ".py",
   "mimetype": "text/x-python",
   "name": "python",
   "nbconvert_exporter": "python",
   "pygments_lexer": "ipython3",
   "version": "3.9.7"
  },
  "orig_nbformat": 4
 },
 "nbformat": 4,
 "nbformat_minor": 2
}
