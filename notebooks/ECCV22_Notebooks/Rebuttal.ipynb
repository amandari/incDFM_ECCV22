{
 "cells": [
  {
   "cell_type": "code",
   "execution_count": 12,
   "metadata": {},
   "outputs": [],
   "source": [
    "import matplotlib.pyplot as plt\n",
    "import numpy as np\n",
    "import os\n",
    "import sys\n",
    "from matplotlib import colors as mcolors\n",
    "import torch\n",
    "import torch.nn as nn\n",
    "import torch.optim as optim\n",
    "\n",
    "import random\n",
    "import time\n",
    "from sklearn.manifold import TSNE\n",
    "import matplotlib.pyplot as plt\n",
    "import seaborn as sns\n",
    "import pandas as pd\n",
    "from torchvision import datasets, models, transforms\n",
    "from sklearn.decomposition import PCA, FastICA\n",
    "import itertools\n",
    "import yaml\n",
    "from argparse import Namespace\n",
    "import copy\n",
    "\n",
    "%matplotlib inline\n",
    "\n",
    "sys.path.append('../../src')\n",
    "import tforms\n",
    "import feature_extraction.feature_extraction_utils as futils\n",
    "from feature_extraction.Network_Latents_Wrapper import NetworkLatents\n",
    "import datasets_utils as dsetutils\n",
    "import utils\n",
    "\n",
    "sys.path.append('../../src/novelty_dfm_CL')\n",
    "\n",
    "import novelty_dfm_CL.datasets_holdout_validation as dseth\n",
    "import novelty_dfm_CL.novelty_detector as novel\n",
    "import novelty_dfm_CL.novelty_eval as novelval \n",
    "import novelty_dfm_CL.classifier as clf\n",
    "import novelty_dfm_CL.novelty_utils as novelu\n",
    "import novelty_dfm_CL.incDFM_w_validation as novelinc\n",
    "import novelty_dfm_CL.novelty_dataset_wrappers as dwrap\n",
    "\n",
    "\n",
    "# Experiments \n",
    "# ------------------\n",
    "# Have 0,1 --> 0,1\n",
    "# Have 0,1 --> 2\n",
    "# have 0,1 --> 2,3 \n",
    "\n",
    "general_config_path = '/lab/arios/ProjIntel/incDFM/src/configs_new/incDFM_rebuttal.yaml'\n",
    "\n",
    "\n",
    "with open(general_config_path) as fid:\n",
    "    args = Namespace(**yaml.load(fid, Loader=yaml.SafeLoader))\n",
    "    \n",
    "args = utils.results_saving_setup(args)\n",
    "\n",
    "# 1) ----- Dataset \n",
    "if not hasattr(args, 'experiment_filepath'):\n",
    "    args.experiment_filepath = None # have dictionary for defaults???\n",
    "if not hasattr(args, 'experiment_name'):\n",
    "    args.experiment_name = None # have dictionary for defaults??\n",
    "\n",
    "args = utils.save_ood_config_simple(args)\n",
    "\n"
   ]
  },
  {
   "cell_type": "code",
   "execution_count": 3,
   "metadata": {},
   "outputs": [
    {
     "name": "stdout",
     "output_type": "stream",
     "text": [
      "first_task [0, 1] 2 0\n",
      "seq_tasks:  [[0, 1], [2, 3]] 1\n",
      "*****Prep Data*****\n",
      "Load existing Experiment ../../sandbox/Experiments_DFM_CL_Rebuttal/cifar10/rebuttal_intraclass_2_by_2/\n",
      "../../sandbox/Experiments_DFM_CL_Rebuttal/cifar10/rebuttal_intraclass_2_by_2/\n",
      "number tasks 2\n",
      "prepared datasets 1.6544325351715088\n",
      "compute ratios data\n",
      "list_tasks [[0, 1]]\n",
      "Task 1 num_old 2000 num_new 7000 num_old_per_task [2000]\n",
      "compute ratios data test\n",
      "list_tasks [[0, 1]]\n",
      "Task 1 num_old 2000 num_new 2000 num_old_per_task [2000]\n",
      "load contrastive backbone\n",
      "Will fetch activations from:\n",
      "base.8, average pooled by -1\n"
     ]
    }
   ],
   "source": [
    "\n",
    "# load holdout dset\n",
    "datasets_use = dseth.call_dataset_holdout_w_validation(args.dset_name, args.data_dir, args.experiment_dir, \n",
    "                                        experiment_filepath=args.experiment_filepath, experiment_name=args.experiment_name, \n",
    "                                        holdout_percent=args.holdout_percent,  val_holdout=args.val_percent, scenario=args.scenario, \n",
    "                                        num_per_task=args.num_per_task, num_classes_first=args.num_classes_first, \n",
    "                                        type_l_cifar=args.type_l_cifar, num_tasks_cifar=args.num_tasks_cifar, num_tasks=args.num_tasks, \n",
    "                                        shuffle=args.shuffle_order, preload=args.preload, keep_all_data=args.keep_all_data, \\\n",
    "                                            equalize_labels=args.equalize_labels, clip_labels=args.clip_labels, clip_max=args.clip_max)\n",
    "\n",
    "if args.keep_all_data==True:\n",
    "    train_datasets, train_holdout_datasets, train_datasets_new_only, val_datasets, test_datasets, list_tasks, list_tasks_targets, dset_prep = datasets_use\n",
    "else:\n",
    "    train_datasets, train_holdout_datasets, val_datasets, test_datasets, list_tasks, list_tasks_targets, dset_prep = datasets_use\n",
    "\n",
    "\n",
    "\n",
    "\n",
    "args.dset_prep = dset_prep\n",
    "old_dsets = train_holdout_datasets\n",
    "old_dsets_test = test_datasets\n",
    "use_old_dsets = copy.deepcopy(train_holdout_datasets)\n",
    "use_old_dsets_test = copy.deepcopy(test_datasets)\n",
    " \n",
    "\n",
    "num_tasks = len(train_datasets)\n",
    "\n",
    "\n",
    "test_loaders = [torch.utils.data.DataLoader(test_datasets[t], batch_size=args.batchsize_test,\n",
    "                                                shuffle=True, num_workers=args.num_workers) for t in range(num_tasks)]\n",
    "\n",
    "\n",
    "num_old_per_task = {}\n",
    "num_old_per_task_test = {}\n",
    "ratio_per_task={}\n",
    "for t_w in range(1,num_tasks):\n",
    "    print('compute ratios data')\n",
    "    # how much to mix from old and new in one task\n",
    "    num_old, num_new, num_old_per_task_pt = novelu.num_mix_old_novelty(args.percent_old_mix, train_datasets[t_w], old_dsets[:t_w], t_w, list_tasks_targets[:t_w])\n",
    "    print('Task', t_w, 'num_old', num_old,  'num_new', num_new, 'num_old_per_task', num_old_per_task_pt)\n",
    "    num_old_per_task[t_w] = num_old_per_task_pt\n",
    "    ratio_per_task[t_w] = num_new/(num_old+num_new)\n",
    "\n",
    "for t_w in range(1,num_tasks):\n",
    "    print('compute ratios data test')\n",
    "    # how much to mix from old and new in one task\n",
    "    num_old_test, num_new_test, num_old_per_task_pt_test = novelu.num_mix_old_novelty(args.percent_old_mix, test_datasets[t_w], old_dsets_test[:t_w], t_w, list_tasks_targets[:t_w])\n",
    "    print('Task', t_w, 'num_old', num_old_test,  'num_new', num_new_test, 'num_old_per_task', num_old_per_task_pt_test)\n",
    "    num_old_per_task_test[t_w] = num_old_per_task_pt_test\n",
    "\n",
    "\n",
    "\n",
    "\n",
    "# 2) ------ Network \n",
    "if len(args.fc_sizes)>0:\n",
    "    fc_sizes = args.fc_sizes.split(\",\")\n",
    "    fc_sizes = [int(x) for x in fc_sizes]\n",
    "else:\n",
    "    fc_sizes = []\n",
    "network = clf.Resnet(dset_prep['total_classes'], resnet_arch=args.net_type, FC_layers=fc_sizes, base_freeze=True)\n",
    "network = network.to(args.device)\n",
    "dfm_inputs = args.dfm_layers_input.split(\",\")\n",
    "dfm_layers_factors = str(args.dfm_layers_factors)\n",
    "dfm_layers_factors = dfm_layers_factors.split(',')\n",
    "dfm_inputs_factors = {}\n",
    "for n in range(len(dfm_inputs)):\n",
    "    dfm_inputs_factors[dfm_inputs[n]]=int(dfm_layers_factors[n]) #adaptive pooling \n",
    "network_inner = NetworkLatents(network, dfm_inputs, pool_factors=dfm_inputs_factors)\n",
    "\n",
    "\n",
    "args.patience_lr = int(np.ceil(args.schedule_patience_perepoch*args.num_epochs))\n"
   ]
  },
  {
   "cell_type": "code",
   "execution_count": 4,
   "metadata": {},
   "outputs": [],
   "source": [
    "\n",
    "# 3) ---- Novelty\n",
    "args.detector_params['target_ind']=dset_prep['scenario_classif']\n",
    "args.detector_params['device']=args.device\n",
    "if args.novelty_detector_name=='odin':\n",
    "    args.detector_params['base_network']=network #simple network (not wrapper) - Is this problematic? TODO\n",
    "    args.detector_params['num_classes']=dset_prep['total_classes']\n",
    "    args.detector_params['criterion']= nn.CrossEntropyLoss()\n",
    "    args.detector_params['num_epochs']=args.num_epochs\n",
    "    args.detector_params['train_technique']=args.train_technique\n",
    "    args.detector_params['lr']=args.lr\n",
    "    args.detector_params['patience_lr'] = args.patience_lr\n",
    "    args.detector_params['schedule_decay'] = args.schedule_decay\n",
    "    args.detector_params['step_size_epoch_lr']= args.step_size_epoch_lr\n",
    "    args.detector_params['gamma_step_lr']= args.gamma_step_lr\n",
    "elif args.novelty_detector_name=='softmax':\n",
    "    args.detector_params['base_network']=network #simple network (not wrapper) - Is this problematic? TODO\n",
    "    args.detector_params['num_classes']=dset_prep['total_classes']\n",
    "\n",
    "\n",
    "noveltyResults = novelval.save_novelty_results(num_tasks, args.experiment_name_plot, args.dir_save)\n",
    "novelty_detector = novel.NoveltyDetector().create_detector(type=args.novelty_detector_name, params=args.detector_params)\n",
    "\n",
    "\n",
    "def get_features(dataset, network_inner, device=0):\n",
    "\n",
    "    loader = torch.utils.data.DataLoader(dataset, batch_size=100,\n",
    "                                            shuffle=True, num_workers=4)\n",
    "    start = time.time()\n",
    "    print('feat extraction begin')\n",
    "    current_features = futils.extract_features(network_inner, loader, \\\n",
    "            target_ind=1, homog_ind=-2, device=device)\n",
    "\n",
    "    print('feat extraction done', time.time()-start)\n",
    "    feat_name = 'base.8'\n",
    "\n",
    "    X = current_features[0][feat_name]\n",
    "    Y = current_features[-2]\n",
    "\n",
    "    return X, Y, current_features\n",
    "\n"
   ]
  },
  {
   "cell_type": "code",
   "execution_count": 5,
   "metadata": {},
   "outputs": [
    {
     "name": "stdout",
     "output_type": "stream",
     "text": [
      "feat extraction begin\n"
     ]
    },
    {
     "name": "stderr",
     "output_type": "stream",
     "text": [
      "100%|██████████| 70/70 [00:12<00:00,  5.50it/s]\n"
     ]
    },
    {
     "name": "stdout",
     "output_type": "stream",
     "text": [
      "feat extraction done 12.738277673721313\n"
     ]
    }
   ],
   "source": [
    "\n",
    "train_dataset_ID = train_datasets[0]\n",
    "\n",
    "# Training - Only ID -------------\n",
    "Feats_ID_train = get_features(train_dataset_ID, network_inner, device=args.device)\n",
    "novelty_detector.fit_total(Feats_ID_train[0].T, Feats_ID_train[1])"
   ]
  },
  {
   "cell_type": "code",
   "execution_count": 6,
   "metadata": {},
   "outputs": [
    {
     "name": "stdout",
     "output_type": "stream",
     "text": [
      "Get scores for novelty detector\n",
      "New task 1, AUROC = 0.967, AUPR = 0.969, AUPR_NORM = 0.969\n",
      "new_scores [0.13367787 0.71241748 0.72588694 ... 1.02474356 0.7749697  1.08543396]\n",
      "old_scores [0.43052685 0.36192754 0.36078835 ... 0.27912539 0.19655183 0.33491546]\n",
      "Results -  Auroc 0.967, Aupr 0.969, Aupr_norm 0.969\n",
      "Average Accuracy per class old 0.9830\n"
     ]
    }
   ],
   "source": [
    "\n",
    "params_score = {'layer':'base.8', 'feature_extractor':network_inner, 'base_apply_score':True, 'target_ind':1}\n",
    "\n",
    "\n",
    "Feats_OOD = copy.deepcopy(train_datasets[1])\n",
    "Feats_ID = use_old_dsets[0]\n",
    "\n",
    "# mix old (holdout) with new data for \"current task\"    \n",
    "print('Get scores for novelty detector')\n",
    "Feats_ID.select_random_subset(2000)\n",
    "Feats_OOD.select_random_subset(2000)\n",
    "\n",
    "    \n",
    "current_dset = dwrap.CurrentTask(Feats_OOD, [Feats_ID])\n",
    "current_loader = torch.utils.data.DataLoader(current_dset, batch_size=100,\n",
    "                                                shuffle=False, num_workers=4)\n",
    "\n",
    "\n",
    "results_novelty = novelval.evaluate_simple_CL(1, novelty_detector, noveltyResults, params_score, current_loader, 'dfm')"
   ]
  },
  {
   "cell_type": "code",
   "execution_count": 7,
   "metadata": {},
   "outputs": [
    {
     "data": {
      "text/plain": [
       "(array([0.13367787, 0.71241748, 0.72588694, ..., 0.27912539, 0.19655183,\n",
       "        0.33491546]),\n",
       " array([1, 1, 1, ..., 0, 0, 0]))"
      ]
     },
     "execution_count": 7,
     "metadata": {},
     "output_type": "execute_result"
    }
   ],
   "source": [
    "results_novelty.scores, results_novelty.gt_novelty"
   ]
  },
  {
   "cell_type": "code",
   "execution_count": 15,
   "metadata": {},
   "outputs": [
    {
     "name": "stdout",
     "output_type": "stream",
     "text": [
      "New task 1, AUROC = 0.965, AUPR = 0.982, AUPR_NORM = 0.982\n",
      "new_scores [0.13367787 0.71241748 0.72588694 ... 1.02474356 0.7749697  1.08543396]\n",
      "old_scores [0.27232325 0.29494274 0.21153177 0.49308366 0.37964153 0.28939575\n",
      " 0.16133583 0.15648128 0.32777816 0.21923673 0.33835873 0.21278693\n",
      " 0.20607366 0.17653257 0.2007238  0.30578357 0.18489486 0.21057747\n",
      " 0.46187901 0.35325092 0.19708864 0.23971613 0.17921147 0.2794528\n",
      " 0.53518111 0.16822752 0.36836335 0.18366081 0.34999722 0.36467484\n",
      " 0.3061735  0.14733966 0.52665013 0.34493455 0.24294928 0.20398632\n",
      " 0.231731   0.29768968 0.22184727 0.19808629 0.16924614 0.39459383\n",
      " 0.35972804 0.29962945 0.24166095 0.27177018 0.37461001 0.14683081\n",
      " 0.35643744 0.48995867 0.42252883 0.10018012 0.2931096  0.69382548\n",
      " 0.39367849 0.50379694 0.18628095 0.1889604  0.22313346 0.33878434\n",
      " 0.35186404 0.12607518 0.34470055 0.32288706 0.2956982  0.30098796\n",
      " 0.39803654 0.23492381 0.26495957 0.20477886 0.27175194 0.31061718\n",
      " 0.43435425 0.30080187 0.26213717 0.16888213 0.34704781 0.43255457\n",
      " 0.34298164 0.38961095 0.34322923 0.29972032 0.41958305 0.3367421\n",
      " 0.54595077 0.20766687 0.26110408 0.15394491 0.14442664 0.49128062\n",
      " 0.37576538 0.93033838 0.24918322 0.24944641 0.27352917 0.39671448\n",
      " 0.25686681 0.24567655 0.23476499 0.22890311 0.24155547 0.16360736\n",
      " 0.38649657 0.32208481 0.38968486 0.29444036 0.31470972 0.38729948\n",
      " 0.28091967 0.32776028 0.16124633 0.39131361 0.32060695 0.22109802\n",
      " 0.16712672 0.81562895 0.42483729 0.20668851 0.30552298 0.3556633\n",
      " 0.48348853 0.2523393  0.60258836 0.55107951 0.27231759 0.25883883\n",
      " 0.20148203 0.19990103 0.2717858  0.36115992 0.22922122 0.30838487\n",
      " 0.46195722 0.29819965 0.37392163 0.36896223 0.26411089 0.38582948\n",
      " 0.26633716 0.08884363 0.29684052 0.48552865 0.20969111 0.22726363\n",
      " 0.26255187 0.28871527 0.46388894 0.29620773 0.22757414 0.45265639\n",
      " 0.38560891 0.30579823 0.15305674 0.50308532 0.30366772 0.33033353\n",
      " 0.22730848 0.168255   0.18070105 0.15286171 0.13679634 0.3676185\n",
      " 0.63411093 0.20577168 0.51220995 0.38638437 0.32884866 0.32849669\n",
      " 0.25251701 0.18286902 0.23945324 0.20051786 0.40317315 0.48122555\n",
      " 0.37486351 0.33766732 0.30230814 0.22710088 0.62754118 0.39507166\n",
      " 0.34324327 0.19339351 0.58822495 0.35829926 0.07291459 0.24389218\n",
      " 0.28120679 0.3052029  0.19531506 0.25247142 0.32148793 0.46059853\n",
      " 0.48208338 0.31799936 0.16539451 0.07548504 0.18201222 0.32814711\n",
      " 0.50234687 0.84391987 0.15406801 0.2252325  0.37655473 0.29239181\n",
      " 0.24692465 0.22276987 0.43533462 0.38491791 0.16085121 0.40089151\n",
      " 0.20558909 0.38149279 0.31932783 0.2290456  0.49581105 0.20643958\n",
      " 0.35148442 0.62273228 0.33014601 0.28530121 0.3141779  0.22656265\n",
      " 0.48638785 0.28056329 0.25084651 0.35163474 0.26571643 0.25336981\n",
      " 0.20782551 0.22916991 0.27274734 0.38708821 0.37624612 0.16870914\n",
      " 0.37290895 0.27289534 0.1624628  0.2666468  0.27824324 0.36416262\n",
      " 0.36288533 0.29792944 0.31219232 0.11906406 0.21722722 0.18968979\n",
      " 0.29471126 0.33280706 0.25259441 0.14872496 0.32847601 0.26321143\n",
      " 0.2595042  0.24256846 0.32038265 0.2286803  0.18848214 0.35781139\n",
      " 0.55945981 0.43459648 0.49854809 0.29559591 0.27054715 0.16462901\n",
      " 0.34873736 0.29978254 0.52834219 0.35435212 0.23995917 0.20496893\n",
      " 0.2319022  0.33953074 0.26089221 0.21572858 0.19838594 0.13403265\n",
      " 0.13846292 0.39074859 0.32593942 0.54430443 0.22320238 0.43705261\n",
      " 0.35736489 0.22057766 0.23288232 0.39431798 0.44969434 0.23586823\n",
      " 0.24581312 0.42760864 0.21613571 0.21511048 0.50455362 0.32631037\n",
      " 0.24566381 0.28885877 0.27104616 0.54292452 0.37209195 1.2963531\n",
      " 0.32513016 0.24032035 0.24807706 0.42524058 0.30992639 0.18986616\n",
      " 0.30053419 0.32847291 0.22487032 0.31778026 0.31162581 0.25908929\n",
      " 0.27105454 0.67884386 0.36712575 0.39105368 0.10213676 0.20027837\n",
      " 0.30869472 0.30757666 0.24825504 0.11255398 0.33852041 0.4956674\n",
      " 0.36076576 0.23317882 0.30304247 0.33167392 0.21713115 0.28630531\n",
      " 0.25388283 0.31134707 0.49836978 0.35071796 0.28939307 0.30634153\n",
      " 0.16791904 0.33740568 0.36815369 0.49728471 0.22671525 0.10645548\n",
      " 0.25089288 0.30256063 0.39631358 0.16635191 0.32253721 0.33290648\n",
      " 0.26007977 0.26199186 0.2634097  0.32206926 0.22406749 0.27576709\n",
      " 0.28317553 0.35134786 0.28757653 0.27151847 0.20059958 0.23003714\n",
      " 0.31645477 0.35379022 0.29861963 0.19498344 0.30267006 0.29292214\n",
      " 0.58609068 0.18061525 0.22117794 0.47362858 0.12549765 0.6462636\n",
      " 0.37583905 0.11928801 0.43921074 0.61108905 0.16503066 0.27724874\n",
      " 0.2796014  0.44409388 0.22341669 0.29239199 0.30437812 0.28162307\n",
      " 0.41415733 0.3686263  0.11328128 0.34188741 0.31052414 0.35747716\n",
      " 0.26427972 0.35397223 0.34073278 0.35805321 0.21750686 0.37544876\n",
      " 0.25140694 0.45888174 0.36733997 0.22094539 0.38905579 0.22263962\n",
      " 0.33628222 0.1800413  0.37317801 0.25850552 0.24922784 0.27120948\n",
      " 0.24867323 0.35401881 0.34474555 0.38542014 0.31314528 0.57697272\n",
      " 0.13786139 0.28148863 0.22366281 0.33552808 0.21017775 0.39568222\n",
      " 0.15330826 0.46180686 0.32156709 0.41009462 0.36325228 0.20543911\n",
      " 0.3253004  0.28996348 0.27526048 0.26067078 0.24874881 0.26783937\n",
      " 0.25768411 0.7733463  0.2107958  0.12827033 0.17144097 0.20797041\n",
      " 0.25573817 0.25652832 0.28568101 0.31027493 0.31921253 0.1959801\n",
      " 0.3605653  0.32608277 0.20234966 0.18941289 0.25188789 0.2255553\n",
      " 0.32920843 0.23644927 0.34357384 0.38678798 0.16663076 0.33486325\n",
      " 0.26789677 0.40505832 0.39390138 0.30741799 0.24541849 0.38815659\n",
      " 0.37941274 0.23009759 0.30985403 0.23310256 0.33162904 0.42861664\n",
      " 0.06039678 0.2439599  0.18591428 0.24690324 0.29120609 0.38402236\n",
      " 0.52966249 0.30667853 0.24357218 0.40256077 0.25864387 0.35895219\n",
      " 0.24526605 0.19214186 0.32107818 0.35334045 0.35589257 0.36922726\n",
      " 0.23450932 0.38551116 0.41356421 0.21164507 0.62877399 0.1471511\n",
      " 0.45240432 0.71725219 0.33743149 0.33222032 0.51036942 0.62288684\n",
      " 0.27348065 0.31701797 0.174475   0.43732116 0.22915274 0.23986201\n",
      " 0.21640992 0.19642738 0.29666936 0.09549772 0.34424224 0.38168585\n",
      " 0.50445676 0.0791734  0.43860194 0.49460149 0.31032395 0.46632481\n",
      " 0.22687218 0.21880996 0.22059482 0.43279591 0.28139424 0.2062746\n",
      " 0.19506116 0.38927349 0.10690447 0.47167322 0.14962661 0.20919128\n",
      " 0.28822124 0.80380869 0.21055444 0.15528116 0.18166152 0.28619036\n",
      " 0.29925695 0.3649767  0.36765859 0.21115659 0.255988   0.23034319\n",
      " 0.19919181 0.28958517 0.36488232 0.56077534 0.17673931 0.17894357\n",
      " 0.1795533  0.33493888 0.34417433 0.24688089 0.24440658 0.52392673\n",
      " 0.36069039 0.28557545 0.17748088 0.1122002  0.32451895 0.3952387\n",
      " 0.16029261 0.25577688 0.50095725 0.27014649 0.21421573 0.48355752\n",
      " 0.18311971 0.43794826 0.36732957 0.40477189 0.17033425 0.30824566\n",
      " 0.23974133 0.17025261 0.19207275 0.43512407 0.26252344 0.34531993\n",
      " 0.41541004 0.25564158 0.20051175 0.19385993 0.46344098 0.22565764\n",
      " 0.41967273 0.26526397 0.40339863 0.73010194 0.30315134 0.34014088\n",
      " 0.39100522 0.47803491 0.19086367 0.46724242 0.13954088 0.25079691\n",
      " 0.24120063 0.16559532 0.27025491 0.49787998 0.30748641 0.30784535\n",
      " 0.27848691 0.37624335 0.25173548 0.16456026 0.32073623 0.27804822\n",
      " 0.28228971 0.67839205 0.22498819 0.2543841  0.45109031 0.35254961\n",
      " 0.24650896 0.23932654 0.23557079 0.4004184  0.28729576 0.28653958\n",
      " 0.1785066  0.29294103 0.25939229 0.13418706 0.44245875 0.43433779\n",
      " 0.19201918 0.50803745 0.27032393 0.32006067 0.32094058 0.43104446\n",
      " 0.28511298 0.30230236 0.52374792 0.17104813 0.24929434 0.19736435\n",
      " 0.53386009 0.3660062  0.61063051 0.36029989 0.23501545 0.2318373\n",
      " 0.27885354 0.26354581 0.42084423 0.1972822  0.43724072 0.34163007\n",
      " 0.25337529 0.36085111 0.34639889 0.20985788 0.25240272 0.27115238\n",
      " 0.23842488 0.17196251 0.25385538 0.27770329 0.22538263 0.54565346\n",
      " 0.31138602 0.39456591 0.43814972 0.47055554 0.28915283 0.2245764\n",
      " 0.46142676 0.27959132 0.12866542 0.27670944 0.39249784 0.44298404\n",
      " 0.19795769 0.2681528  0.22801585 0.35150787 0.29232439 0.23465326\n",
      " 0.26727498 0.22689782 0.24555539 0.53968227 0.42578632 0.13832992\n",
      " 0.33137938 0.21523389 0.41609025 0.30765709 0.31490031 0.34300071\n",
      " 0.21163318 0.21359783 0.18886471 0.24963635 0.14099941 0.31323349\n",
      " 0.28886849 0.21112882 0.17412898 0.15693113 0.68544817 0.29081586\n",
      " 0.31261465 0.18701507 0.37188953 0.23195237 0.11432656 0.47728744\n",
      " 0.35492486 0.2039921  0.23498283 0.20333956 0.32900313 0.42527831\n",
      " 0.24002159 0.14860971 0.12385724 0.35463881 0.19082277 0.24151734\n",
      " 0.34166405 0.21764135 0.21750244 0.2587803  0.46833554 0.22864175\n",
      " 0.24983002 0.43283105 0.21850972 0.27731055 0.29343569 0.41652811\n",
      " 0.22070068 0.30146798 0.45208418 0.24341759 0.31289747 0.2071759\n",
      " 0.1243994  0.4295859  0.17999813 0.22553915 0.70830512 0.3358705\n",
      " 0.31760222 0.32932633 0.29155689 0.366144   0.17291257 0.35470197\n",
      " 0.19205233 0.25759012 0.41924483 0.13621649 0.24298695 0.31744298\n",
      " 0.35322678 0.32662573 0.15396574 0.2656427  0.26357597 0.14856584\n",
      " 0.18991858 0.25500941 0.49010447 0.28094026 0.34218153 0.22681665\n",
      " 0.19006842 0.29617953 0.3091211  1.25373721 0.23855764 0.36483485\n",
      " 0.3333056  0.24880072 0.6481334  0.19090694 0.22626403 0.21181175\n",
      " 0.33148023 0.25282627 0.26151252 0.21520334 0.23282105 0.32226318\n",
      " 0.21644503 0.36347497 0.39708742 0.58272851 0.38524395 0.30622774\n",
      " 0.27787274 0.21401939 0.28539032 0.23801714 0.26049352 0.8079524\n",
      " 0.24728295 0.20215946 0.2503798  0.13940927 0.27045965 0.14091492\n",
      " 0.14772925 0.1670749  0.39855352 0.28183705 0.26570994 0.25500298\n",
      " 0.21121418 0.34519887 0.15116821 0.22423169 0.31471694 0.48515329\n",
      " 0.38694814 0.45521176 0.28659445 0.30187064 0.37243992 0.23020941\n",
      " 0.20561144 0.28892785 0.25957793 0.28867501 0.27766696 0.22109443\n",
      " 0.32447588 0.25389087 0.29691952 0.22732371 0.30810571 0.48635963\n",
      " 0.21690875 0.52623558 0.31091511 0.10388994 0.18504688 0.25657284\n",
      " 0.25634468 0.25323355 0.20838904 0.29219976 0.20469582 0.39020038\n",
      " 0.34010899 0.2513606  0.35056353 0.48096502 0.20332785 0.13926831\n",
      " 0.19698951 0.23651814 0.27090102 0.33888954 0.21038988 0.12731606\n",
      " 0.2271443  0.21797805 0.22913057 0.3500343  0.3367705  0.25265282\n",
      " 0.33402368 0.17034313 0.26194543 0.32097977 0.24215212 0.27528542\n",
      " 0.21412453 0.15445787 0.36311868 0.08435055 0.34076101 0.22198731\n",
      " 0.18206169 1.00722551 0.14961608 0.27808434 0.22966766 0.28612083\n",
      " 0.36154026 0.29652542 0.25203598 0.25800914 0.26297769 0.15017213\n",
      " 0.30800647 0.7386508  0.21655549 0.37969625 0.27481416 0.33110395\n",
      " 0.30132273 0.36111799 0.0968702  0.16319235 0.45964038 0.35472384\n",
      " 0.24239215 0.60764271 0.13393268 0.35356283 0.20557627 0.14562695\n",
      " 0.27173561 0.56355572 0.22347325 0.16557848 0.48072508 0.19893742\n",
      " 0.33121201 0.47121459 0.21549654 0.23930252 0.40223116 0.19622168\n",
      " 0.35616058 0.26272413 0.82034349 0.44124833 0.33654714 0.32190895\n",
      " 0.32764173 0.2869395  0.27332991 0.25211525 0.19291002 0.3183963\n",
      " 0.20186272 0.36922836 0.5738945  0.31830806 0.19674292 0.20723478\n",
      " 0.2909742  0.66679281 0.27088076 0.41954136 0.29689157 0.19941649\n",
      " 0.33809701 0.30935603 0.2259516  0.30079758 0.19863415 0.39365363\n",
      " 0.23318341 0.26575965 0.47019297 0.22878301 0.09772615 0.44215447\n",
      " 0.31772819 0.41427481 0.36592376 0.30942917 0.14884838 0.33383679\n",
      " 0.35156488 0.2503922  0.31564593 0.26976886 0.33783162 0.37980664\n",
      " 0.41053352 0.16735435 0.33861321 0.23947057 0.52361047 0.55051684\n",
      " 0.18412764 0.35537487 0.52087361 0.34667048 0.27915296 0.32422483\n",
      " 0.4139173  0.46723321 0.1432745  0.59498292 0.19577914 0.37144354\n",
      " 0.25683904 0.24178523 0.32223579 0.35079235 0.21832725 0.55842507\n",
      " 0.17976731 0.53289324 0.29294211 0.54179728 0.57924831 0.2630949\n",
      " 0.36228025 0.23816542 0.2471604  0.32286602]\n",
      "Results -  Auroc 0.965, Aupr 0.982, Aupr_norm 0.982\n",
      "Average Accuracy per class old 0.9880\n"
     ]
    },
    {
     "data": {
      "image/png": "[encoded data removed]",
      "text/plain": [
       "<Figure size 432x288 with 1 Axes>"
      ]
     },
     "metadata": {
      "needs_background": "light"
     },
     "output_type": "display_data"
    },
    {
     "data": {
      "image/png": "[encoded data removed]",
      "text/plain": [
       "<Figure size 432x288 with 1 Axes>"
      ]
     },
     "metadata": {
      "needs_background": "light"
     },
     "output_type": "display_data"
    },
    {
     "data": {
      "image/png": "[encoded data removed]",
      "text/plain": [
       "<Figure size 432x288 with 1 Axes>"
      ]
     },
     "metadata": {
      "needs_background": "light"
     },
     "output_type": "display_data"
    },
    {
     "data": {
      "image/png": "[encoded data removed]",
      "text/plain": [
       "<Figure size 432x288 with 1 Axes>"
      ]
     },
     "metadata": {
      "needs_background": "light"
     },
     "output_type": "display_data"
    }
   ],
   "source": [
    "\n",
    "\n",
    "# class CurrentTask_OnlyOld():\n",
    "#     def __init__(self, old_dsets, use_coarse=False, returnIDX=False):\n",
    "#         \"\"\" \n",
    "#         combine old IID task samples and New task samples\n",
    "#         Load x_old and y_old data here (already subsampled if applicable)\n",
    "#             --> Consider bypassing dsetTask and loading the experiment_indices directly here\n",
    "#         x = torch\n",
    "#         y = numpy\n",
    "#         novelty_y = numpy\n",
    "#         \"\"\"\n",
    "#         self.use_coarse = use_coarse\n",
    "        \n",
    "#         self.dsets = old_dsets\n",
    "                \n",
    "#         indices_task_old = []\n",
    "#         for j, dset in enumerate(old_dsets):\n",
    "#             indices_task_old.extend(list(zip([j+1 for i in range(dset.__len__())], [i for i in range(dset.__len__())])))\n",
    "#         self.novelty_y = np.zeros(len(indices_task_old))\n",
    "            \n",
    "        \n",
    "#         self.indices_task = copy.deepcopy(indices_task_old)\n",
    "                    \n",
    "#         self.returnIDX = returnIDX\n",
    "        \n",
    "\n",
    "#     def __len__(self):\n",
    "#         return len(self.indices_task)\n",
    "    \n",
    "        \n",
    "#     def __getitem__(self, idx):\n",
    "        \n",
    "#         dset_id, idx_dset = self.indices_task[idx]\n",
    "        \n",
    "#         # print('dset_id', dset_id)\n",
    "        \n",
    "#         im, y_fine, y_coarse = self.dsets[dset_id].__getitem__(idx_dset)\n",
    "        \n",
    "#         if self.use_coarse:\n",
    "#             class_lbl = y_coarse\n",
    "#         else:\n",
    "#             class_lbl = y_fine\n",
    "\n",
    "#         novelty_lbl = self.novelty_y[idx]\n",
    "\n",
    "#         if self.returnIDX:\n",
    "#             return im, class_lbl, novelty_lbl, idx\n",
    "            \n",
    "#         return im, class_lbl, novelty_lbl\n",
    "\n",
    "\n",
    "\n",
    "# train_dataset_ID\n",
    "\n",
    "old_old_val_ID = val_datasets[0]\n",
    "\n",
    "old_old_val_ID.select_random_subset(2000)\n",
    "    \n",
    "current_dset_train = dwrap.CurrentTask(Feats_OOD, [old_old_val_ID])\n",
    "current_loader_train = torch.utils.data.DataLoader(current_dset_train, batch_size=100,\n",
    "                                                shuffle=False, num_workers=4)\n",
    "\n",
    "\n",
    "\n",
    "results_novelty_train = novelval.evaluate_simple_CL(1, novelty_detector, noveltyResults, params_score, current_loader_train, 'dfm')"
   ]
  },
  {
   "cell_type": "code",
   "execution_count": 71,
   "metadata": {},
   "outputs": [
    {
     "data": {
      "image/png": "[encoded data removed]",
      "text/plain": [
       "<Figure size 432x288 with 1 Axes>"
      ]
     },
     "metadata": {
      "needs_background": "light"
     },
     "output_type": "display_data"
    }
   ],
   "source": [
    "\n",
    "old_old_scores = results_novelty_train.scores[results_novelty_train.gt_novelty==0]\n",
    "\n",
    "new_scores = results_novelty.scores[results_novelty.gt_novelty==1]\n",
    "old_scores = results_novelty.scores[results_novelty.gt_novelty==0]\n",
    "\n",
    "\n",
    "\n",
    "# ['#99e600', '#006600']\n",
    "\n",
    "ax = plt.subplot(111)\n",
    "\n",
    "ax.hist([old_old_scores, old_scores], bins=50, density=True, range=[0,5], align='mid', color=['#99e600', '#006600'])\n",
    "ax.set_xlabel('incDFM iteration 0 scores')\n",
    "ax.set_ylabel('Density')\n",
    "\n",
    "# Hide the right and top spines\n",
    "ax.spines['right'].set_visible(False)\n",
    "ax.spines['top'].set_visible(False)"
   ]
  },
  {
   "cell_type": "code",
   "execution_count": 53,
   "metadata": {},
   "outputs": [
    {
     "name": "stdout",
     "output_type": "stream",
     "text": [
      "0.5019939999999999\n"
     ]
    }
   ],
   "source": [
    "from sklearn.metrics import roc_curve, precision_recall_curve, auc\n",
    "\n",
    "\n",
    "# old_old_scores\n",
    "\n",
    "\n",
    "scores = np.concatenate((old_old_scores, old_scores))\n",
    "ground_truth_novelty = np.concatenate((np.zeros(old_old_scores.shape), np.ones(old_scores.shape)))\n",
    "\n",
    "fpr, tpr, _ = roc_curve(ground_truth_novelty, scores)\n",
    "# prec, recall, _ = precision_recall_curve(ground_truth_novelty, scores)\n",
    "auroc = auc(fpr, tpr)\n",
    "print(auroc)"
   ]
  },
  {
   "cell_type": "code",
   "execution_count": 76,
   "metadata": {},
   "outputs": [
    {
     "data": {
      "text/plain": [
       "<matplotlib.legend.Legend at 0x7f2d554fd9a0>"
      ]
     },
     "execution_count": 76,
     "metadata": {},
     "output_type": "execute_result"
    },
    {
     "data": {
      "image/png": "[encoded data removed]",
      "text/plain": [
       "<Figure size 432x288 with 1 Axes>"
      ]
     },
     "metadata": {
      "needs_background": "light"
     },
     "output_type": "display_data"
    }
   ],
   "source": [
    "\n",
    "old_old_scores = results_novelty_train.scores[results_novelty_train.gt_novelty==0]\n",
    "\n",
    "new_scores = results_novelty.scores[results_novelty.gt_novelty==1]-0.08\n",
    "old_scores = results_novelty.scores[results_novelty.gt_novelty==0]\n",
    "\n",
    "\n",
    "ax = plt.subplot(111)\n",
    "\n",
    "ax.hist([old_old_scores, old_scores, new_scores], bins=50, density=True, range=[0,5], align='mid', color=['#99e600', '#006600', 'r'], label=['old classes validation', 'old classes unseen samples', 'new classes'])\n",
    "ax.set_xlabel('incDFM iteration 0 scores')\n",
    "ax.set_ylabel('Density')\n",
    "\n",
    "# Hide the right and top spines\n",
    "ax.spines['right'].set_visible(False)\n",
    "ax.spines['top'].set_visible(False)\n",
    "ax.legend()"
   ]
  },
  {
   "cell_type": "code",
   "execution_count": 64,
   "metadata": {},
   "outputs": [
    {
     "name": "stdout",
     "output_type": "stream",
     "text": [
      "0.94227525\n"
     ]
    }
   ],
   "source": [
    "scores = np.concatenate((old_scores, new_scores))\n",
    "ground_truth_novelty = np.concatenate((np.zeros(old_scores.shape), np.ones(new_scores.shape)))\n",
    "\n",
    "fpr, tpr, _ = roc_curve(ground_truth_novelty, scores)\n",
    "# prec, recall, _ = precision_recall_curve(ground_truth_novelty, scores)\n",
    "auroc = auc(fpr, tpr)\n",
    "print(auroc)"
   ]
  },
  {
   "cell_type": "code",
   "execution_count": 74,
   "metadata": {},
   "outputs": [],
   "source": [
    "\n",
    "scores_incdfm = np.load('/lab/arios/ProjIntel/incDFM/sandbox/test_scores_rebuttal_2_2_incdfm.npy')\n",
    "\n",
    "\n",
    "scores_incdfm_seen = np.load('/lab/arios/ProjIntel/incDFM/sandbox/seen_scores_rebuttal_2_2_incdfm.npy')\n",
    "\n",
    "new_scores_incdfm = scores_incdfm[0,scores_incdfm[1,...]==1]\n",
    "\n",
    "old_scores_incdfm = scores_incdfm[0,scores_incdfm[1,...]==0]\n",
    "\n",
    "old_old_scores_incdfm = scores_incdfm_seen[0,scores_incdfm_seen[1,...]==0]\n",
    "\n",
    "\n",
    "# new_scores_incdfm.mean(), old_scores_incdfm.mean()"
   ]
  },
  {
   "cell_type": "code",
   "execution_count": 75,
   "metadata": {},
   "outputs": [
    {
     "data": {
      "image/png": "[encoded data removed]",
      "text/plain": [
       "<Figure size 432x288 with 1 Axes>"
      ]
     },
     "metadata": {
      "needs_background": "light"
     },
     "output_type": "display_data"
    }
   ],
   "source": [
    "\n",
    "ax = plt.subplot(111)\n",
    "\n",
    "ax.hist([old_old_scores_incdfm, old_scores_incdfm, new_scores_incdfm], bins=50, density=True, range=[0,5], align='mid', color=['#99e600', '#006600', 'r'])\n",
    "ax.set_xlabel('incDFM iteration 0 scores')\n",
    "ax.set_ylabel('Density')\n",
    "\n",
    "# Hide the right and top spines\n",
    "ax.spines['right'].set_visible(False)\n",
    "ax.spines['top'].set_visible(False)"
   ]
  },
  {
   "cell_type": "code",
   "execution_count": 55,
   "metadata": {},
   "outputs": [
    {
     "name": "stdout",
     "output_type": "stream",
     "text": [
      "0.991078\n"
     ]
    }
   ],
   "source": [
    "scores = np.concatenate((old_scores_incdfm, new_scores_incdfm))\n",
    "ground_truth_novelty = np.concatenate((np.zeros(old_scores_incdfm.shape), np.ones(new_scores_incdfm.shape)))\n",
    "\n",
    "fpr, tpr, _ = roc_curve(ground_truth_novelty, scores)\n",
    "# prec, recall, _ = precision_recall_curve(ground_truth_novelty, scores)\n",
    "auroc = auc(fpr, tpr)\n",
    "print(auroc)"
   ]
  },
  {
   "cell_type": "code",
   "execution_count": 12,
   "metadata": {},
   "outputs": [
    {
     "data": {
      "text/plain": [
       "array([0.32900172, 0.3405436 , 0.22744976, ..., 0.44704172, 0.30023366,\n",
       "       0.3182396 ])"
      ]
     },
     "execution_count": 12,
     "metadata": {},
     "output_type": "execute_result"
    }
   ],
   "source": [
    "old_scores"
   ]
  },
  {
   "cell_type": "code",
   "execution_count": null,
   "metadata": {},
   "outputs": [],
   "source": []
  }
 ],
 "metadata": {
  "interpreter": {
   "hash": "6656ba487fb895a60e5d4c5030343c34c763d6fe30d1a6683b717bdb1af8ff9b"
  },
  "kernelspec": {
   "display_name": "Python 3.9.10 ('incDFM_proj')",
   "language": "python",
   "name": "python3"
  },
  "language_info": {
   "codemirror_mode": {
    "name": "ipython",
    "version": 3
   },
   "file_extension": ".py",
   "mimetype": "text/x-python",
   "name": "python",
   "nbconvert_exporter": "python",
   "pygments_lexer": "ipython3",
   "version": "3.9.10"
  },
  "orig_nbformat": 4
 },
 "nbformat": 4,
 "nbformat_minor": 2
}
