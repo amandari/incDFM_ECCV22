{
 "cells": [
  {
   "cell_type": "code",
   "execution_count": 2,
   "source": [
    "import matplotlib.pyplot as plt\n",
    "import numpy as np\n",
    "import os\n",
    "import sys\n",
    "from matplotlib import colors as mcolors\n",
    "import random\n",
    "import pickle\n",
    "\n",
    "from sklearn.metrics import fbeta_score\n",
    "from argparse import Namespace\n",
    "\n",
    "from scipy.stats import entropy\n",
    "%matplotlib inline\n",
    "sys.path.append('../src/')\n",
    "\n",
    "from novelty_dfm_CL.novelty_utils import confidence_scores, Threshold_n_Select_Simple\n",
    "from novelty_dfm_CL.novelty_plot_utils import confidence_multi_task_subplots, multi_task_subplots, evaluate_subset_n_complement, ThresholdingResults\n",
    "\n"
   ],
   "outputs": [],
   "metadata": {}
  },
  {
   "cell_type": "markdown",
   "source": [
    "# Set parameters for evaluation"
   ],
   "metadata": {}
  },
  {
   "cell_type": "code",
   "execution_count": 6,
   "source": [
    "# 0) Data results experiment of CL_DFM.ipynb\n",
    "dir_results = '../src/novelty_dfm_CL/Results_DFM_CL/cifar10/101121_123634/'\n",
    "\n",
    "# f-beta score parameter\n",
    "f1_beta = 1\n",
    "\n",
    "chosen_threshold = 60 # current file uses this percentile threhold for simple threhsolding of novel/old"
   ],
   "outputs": [],
   "metadata": {}
  },
  {
   "cell_type": "markdown",
   "source": [
    "# Load Scores + Ground Truth per task"
   ],
   "metadata": {}
  },
  {
   "cell_type": "code",
   "execution_count": 7,
   "source": [
    "with open('%s/results_tasks.pickle'%(dir_results), 'rb') as handle:\n",
    "    per_task_results = pickle.load(handle)\n",
    "\n",
    "if isinstance(per_task_results, dict):\n",
    "    per_task_results = Namespace(**per_task_results)\n",
    "\n",
    "num_tasks = len(per_task_results.gt.keys())"
   ],
   "outputs": [],
   "metadata": {}
  },
  {
   "cell_type": "markdown",
   "source": [
    "# Compute Stats"
   ],
   "metadata": {}
  },
  {
   "cell_type": "code",
   "execution_count": 4,
   "source": [
    "percentiles = np.arange(20,100,5)\n",
    "\n",
    "Results = ThresholdingResults(percentiles, num_tasks)\n",
    "\n",
    "Results.log_results(per_task_results)\n",
    "\n"
   ],
   "outputs": [],
   "metadata": {}
  },
  {
   "cell_type": "markdown",
   "source": [
    "# Plot Precision, Recall and F-beta x Thresholding by percentiles"
   ],
   "metadata": {}
  },
  {
   "cell_type": "code",
   "execution_count": 5,
   "source": [
    "\n",
    "data_perform = np.stack((Results.precision_novelty, Results.recall_novelty, Results.fbeta_novelty, Results.accuracy_novelty), axis=0)\n",
    "\n",
    "stats_names = ['precision', 'recall', 'F_%.2f'%f1_beta, 'accuracy']\n",
    "\n",
    "colors_set = ['r', 'b', 'g', 'c']\n",
    "\n",
    "\n",
    "savepath = dir_results + '/performance_vs_thresholding_percentiles.jpg'\n",
    "\n",
    "multi_task_subplots(data_perform, savepath=savepath, title_plot='Performance when Thresholding', y_ticks=np.arange(0,1.15, 0.1), xlabels=np.tile(percentiles,(num_tasks,1)).T, \n",
    "                    fig_size_=(15,25),  codes=stats_names, colors_set=colors_set, stepsize=1, task_delim=False, turnoffX=False)"
   ],
   "outputs": [],
   "metadata": {}
  },
  {
   "cell_type": "markdown",
   "source": [
    "# Plot confidence values (Novel x Old) x Thresholds "
   ],
   "metadata": {}
  },
  {
   "cell_type": "code",
   "execution_count": 6,
   "source": [
    "# TODO change this to bar plot (better visualization)\n",
    "\n",
    "\n",
    "savepath = dir_results + '/confidences_vs_thresholding_percentiles_variance.jpg'\n",
    "\n",
    "\n",
    "th_mean, th_e = confidence_multi_task_subplots([Results.confidences_Novel, Results.confidences_Old], percentiles, savepath=savepath, title_plot='Confidences when Thresholding',\\\n",
    "     fig_size_=(10.5,20),  codes=['TP-Novel', 'FP-Old'], stepsize_task=1, colors_set=['c', 'm'])\n",
    "\n",
    "# confidence_multi_task_subplots([confidences_Novel, confidences_Old], title_plot='COnfidences x Threshold', y_step=0.01, y_ticks=np.arange(0.5,3.0,0.5), fig_size_=(10.5,20),  codes=['TP-Novel', 'FP-Old'], stepsize_task=1, colors_set=['c', 'm'])"
   ],
   "outputs": [
    {
     "output_type": "stream",
     "name": "stderr",
     "text": [
      "/home/amandari/miniconda3/envs/remind_proj/lib/python3.7/site-packages/numpy/core/_methods.py:217: RuntimeWarning: Degrees of freedom <= 0 for slice\n",
      "  keepdims=keepdims)\n",
      "/home/amandari/miniconda3/envs/remind_proj/lib/python3.7/site-packages/numpy/core/_methods.py:209: RuntimeWarning: invalid value encountered in double_scalars\n",
      "  ret = ret.dtype.type(ret / rcount)\n"
     ]
    },
    {
     "output_type": "error",
     "ename": "ValueError",
     "evalue": "arange: cannot compute length",
     "traceback": [
      "\u001b[0;31m---------------------------------------------------------------------------\u001b[0m",
      "\u001b[0;31mValueError\u001b[0m                                Traceback (most recent call last)",
      "\u001b[0;32m<ipython-input-6-5c7d2c82e10f>\u001b[0m in \u001b[0;36m<module>\u001b[0;34m\u001b[0m\n\u001b[1;32m      6\u001b[0m \u001b[0;34m\u001b[0m\u001b[0m\n\u001b[1;32m      7\u001b[0m th_mean, th_e = confidence_multi_task_subplots([Results.confidences_Novel, Results.confidences_Old], percentiles, savepath=savepath, title_plot='Confidences when Thresholding',\\\n\u001b[0;32m----> 8\u001b[0;31m      fig_size_=(10.5,20),  codes=['TP-Novel', 'FP-Old'], stepsize_task=1, colors_set=['c', 'm'])\n\u001b[0m\u001b[1;32m      9\u001b[0m \u001b[0;34m\u001b[0m\u001b[0m\n\u001b[1;32m     10\u001b[0m \u001b[0;31m# confidence_multi_task_subplots([confidences_Novel, confidences_Old], title_plot='COnfidences x Threshold', y_step=0.01, y_ticks=np.arange(0.5,3.0,0.5), fig_size_=(10.5,20),  codes=['TP-Novel', 'FP-Old'], stepsize_task=1, colors_set=['c', 'm'])\u001b[0m\u001b[0;34m\u001b[0m\u001b[0;34m\u001b[0m\u001b[0;34m\u001b[0m\u001b[0m\n",
      "\u001b[0;32m~/CodeDev/ProjIntel/src/novelty_dfm_CL/novelty_plot_utils.py\u001b[0m in \u001b[0;36mconfidence_multi_task_subplots\u001b[0;34m(data_mult, thresholds, savepath, title_plot, fig_size_, alpha, codes, stepsize_task, colors_set)\u001b[0m\n\u001b[1;32m    299\u001b[0m         \u001b[0maxplot\u001b[0m\u001b[0;34m.\u001b[0m\u001b[0mset_ylabel\u001b[0m\u001b[0;34m(\u001b[0m\u001b[0;34m'Task %d'\u001b[0m\u001b[0;34m%\u001b[0m\u001b[0;34m(\u001b[0m\u001b[0;34m(\u001b[0m\u001b[0mt\u001b[0m\u001b[0;34m)\u001b[0m\u001b[0;34m)\u001b[0m\u001b[0;34m,\u001b[0m \u001b[0mrotation\u001b[0m\u001b[0;34m=\u001b[0m\u001b[0;36m90\u001b[0m\u001b[0;34m,\u001b[0m \u001b[0mfontsize\u001b[0m\u001b[0;34m=\u001b[0m\u001b[0;36m12\u001b[0m\u001b[0;34m,\u001b[0m \u001b[0mfontweight\u001b[0m\u001b[0;34m=\u001b[0m\u001b[0;34m'semibold'\u001b[0m\u001b[0;34m)\u001b[0m\u001b[0;34m\u001b[0m\u001b[0;34m\u001b[0m\u001b[0m\n\u001b[1;32m    300\u001b[0m \u001b[0;34m\u001b[0m\u001b[0m\n\u001b[0;32m--> 301\u001b[0;31m         \u001b[0my_ticks\u001b[0m \u001b[0;34m=\u001b[0m \u001b[0mnp\u001b[0m\u001b[0;34m.\u001b[0m\u001b[0marange\u001b[0m\u001b[0;34m(\u001b[0m\u001b[0mth_mean\u001b[0m\u001b[0;34m.\u001b[0m\u001b[0mmin\u001b[0m\u001b[0;34m(\u001b[0m\u001b[0;34m)\u001b[0m\u001b[0;34m,\u001b[0m \u001b[0mth_mean\u001b[0m\u001b[0;34m.\u001b[0m\u001b[0mmax\u001b[0m\u001b[0;34m(\u001b[0m\u001b[0;34m)\u001b[0m\u001b[0;34m+\u001b[0m\u001b[0;36m2\u001b[0m\u001b[0;34m*\u001b[0m\u001b[0mth_e\u001b[0m\u001b[0;34m.\u001b[0m\u001b[0mmax\u001b[0m\u001b[0;34m(\u001b[0m\u001b[0;34m)\u001b[0m\u001b[0;34m,\u001b[0m \u001b[0;34m(\u001b[0m\u001b[0;34m(\u001b[0m\u001b[0mth_mean\u001b[0m\u001b[0;34m.\u001b[0m\u001b[0mmax\u001b[0m\u001b[0;34m(\u001b[0m\u001b[0;34m)\u001b[0m\u001b[0;34m+\u001b[0m\u001b[0;36m2\u001b[0m\u001b[0;34m*\u001b[0m\u001b[0mth_e\u001b[0m\u001b[0;34m.\u001b[0m\u001b[0mmax\u001b[0m\u001b[0;34m(\u001b[0m\u001b[0;34m)\u001b[0m\u001b[0;34m)\u001b[0m\u001b[0;34m-\u001b[0m\u001b[0mth_mean\u001b[0m\u001b[0;34m.\u001b[0m\u001b[0mmin\u001b[0m\u001b[0;34m(\u001b[0m\u001b[0;34m)\u001b[0m\u001b[0;34m)\u001b[0m\u001b[0;34m/\u001b[0m\u001b[0;36m10\u001b[0m\u001b[0;34m)\u001b[0m\u001b[0;34m\u001b[0m\u001b[0;34m\u001b[0m\u001b[0m\n\u001b[0m\u001b[1;32m    302\u001b[0m \u001b[0;34m\u001b[0m\u001b[0m\n\u001b[1;32m    303\u001b[0m         \u001b[0mprint\u001b[0m\u001b[0;34m(\u001b[0m\u001b[0mt\u001b[0m\u001b[0;34m,\u001b[0m \u001b[0;34m'y_ticks'\u001b[0m\u001b[0;34m,\u001b[0m \u001b[0my_ticks\u001b[0m\u001b[0;34m)\u001b[0m\u001b[0;34m\u001b[0m\u001b[0;34m\u001b[0m\u001b[0m\n",
      "\u001b[0;31mValueError\u001b[0m: arange: cannot compute length"
     ]
    }
   ],
   "metadata": {}
  },
  {
   "cell_type": "markdown",
   "source": [
    "# Evaluate Threshold per task"
   ],
   "metadata": {}
  },
  {
   "cell_type": "code",
   "execution_count": null,
   "source": [
    "\n",
    "# task=7\n",
    "\n",
    "# indices  = [Threshold_n_Select(task, per_task_results, th_percentile_score=th, th_percentile_confidence=-1,  metric_confidence=('variance', 'min'))[0] for th in percentiles]\n",
    "\n",
    "# precisions_n = [evaluate_subset_n_complement(task, per_task_results, inds)[0][0] for inds in indices]\n",
    "# precisions_o = [evaluate_subset_n_complement(task, per_task_results, inds)[1][0] for inds in indices]\n",
    "\n",
    "# recalls_n = [evaluate_subset_n_complement(task, per_task_results, inds)[0][1] for inds in indices]\n",
    "# recalls_o = [evaluate_subset_n_complement(task, per_task_results, inds)[1][1] for inds in indices]\n",
    "\n",
    "# accuracies_n = [evaluate_subset_n_complement(task, per_task_results, inds)[0][-2] for inds in indices]\n",
    "# accuracies_o = [evaluate_subset_n_complement(task, per_task_results, inds)[1][-2] for inds in indices]\n",
    "\n",
    "\n",
    "# %matplotlib inline\n",
    "# plt.plot(np.arange(20,100,5), precisions_n)\n",
    "# plt.plot(np.arange(20,100,5), recalls_n, 'r')\n",
    "# plt.ylim([0,1.0])"
   ],
   "outputs": [],
   "metadata": {}
  }
 ],
 "metadata": {
  "orig_nbformat": 4,
  "language_info": {
   "name": "python",
   "version": "3.7.10",
   "mimetype": "text/x-python",
   "codemirror_mode": {
    "name": "ipython",
    "version": 3
   },
   "pygments_lexer": "ipython3",
   "nbconvert_exporter": "python",
   "file_extension": ".py"
  },
  "kernelspec": {
   "name": "python3",
   "display_name": "Python 3.7.10 64-bit ('remind_proj': conda)"
  },
  "interpreter": {
   "hash": "05b150e87e16a7f15e68a52cad20b8449e4511c9ed1c6048915793505d6c322d"
  }
 },
 "nbformat": 4,
 "nbformat_minor": 2
}